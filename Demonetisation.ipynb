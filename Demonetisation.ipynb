{
 "cells": [
  {
   "cell_type": "markdown",
   "metadata": {},
   "source": [
    "# Exploratory Data Analysis of ~20k tweets from 9/11/2016 to 12/12/2016."
   ]
  },
  {
   "cell_type": "code",
   "execution_count": 1,
   "metadata": {
    "collapsed": false
   },
   "outputs": [],
   "source": [
    "import pandas as pd\n",
    "import numpy as np\n",
    "import seaborn as sns\n",
    "import indicoio as indico\n",
    "import matplotlib.pyplot as plt\n",
    "\n",
    "%matplotlib inline"
   ]
  },
  {
   "cell_type": "code",
   "execution_count": 4,
   "metadata": {
    "collapsed": false
   },
   "outputs": [],
   "source": [
    "df = pd.read_csv('tweets.csv')"
   ]
  },
  {
   "cell_type": "code",
   "execution_count": 5,
   "metadata": {
    "collapsed": false
   },
   "outputs": [],
   "source": [
    "df.drop(['Unnamed: 0'], axis = 1, inplace = True, errors = 'ignore')"
   ]
  },
  {
   "cell_type": "code",
   "execution_count": 6,
   "metadata": {
    "collapsed": false
   },
   "outputs": [
    {
     "data": {
      "text/plain": [
       "Index(['user id', 'name', 'handle', 'date', 'retweets', 'favorites', 'text',\n",
       "       'id', 'permalink', 'language', 'followers_count', 'location',\n",
       "       'sentiment'],\n",
       "      dtype='object')"
      ]
     },
     "execution_count": 6,
     "metadata": {},
     "output_type": "execute_result"
    }
   ],
   "source": [
    "df.columns"
   ]
  },
  {
   "cell_type": "code",
   "execution_count": 13,
   "metadata": {
    "collapsed": false
   },
   "outputs": [
    {
     "data": {
      "text/html": [
       "<div>\n",
       "<table border=\"1\" class=\"dataframe\">\n",
       "  <thead>\n",
       "    <tr style=\"text-align: right;\">\n",
       "      <th></th>\n",
       "      <th>user id</th>\n",
       "      <th>name</th>\n",
       "      <th>handle</th>\n",
       "      <th>date</th>\n",
       "      <th>retweets</th>\n",
       "      <th>favorites</th>\n",
       "      <th>text</th>\n",
       "      <th>id</th>\n",
       "      <th>permalink</th>\n",
       "      <th>language</th>\n",
       "      <th>followers_count</th>\n",
       "      <th>location</th>\n",
       "      <th>sentiment</th>\n",
       "    </tr>\n",
       "  </thead>\n",
       "  <tbody>\n",
       "    <tr>\n",
       "      <th>0</th>\n",
       "      <td>7.108627e+17</td>\n",
       "      <td>The gamer</td>\n",
       "      <td>VenkateshaPanc2</td>\n",
       "      <td>2016-11-09 23:38:24</td>\n",
       "      <td>0.0</td>\n",
       "      <td>0.0</td>\n",
       "      <td>If common man is supporting the decision why c...</td>\n",
       "      <td>7.964142e+17</td>\n",
       "      <td>https://twitter.com/VenkateshaPanc2/status/796...</td>\n",
       "      <td>en</td>\n",
       "      <td>6.0</td>\n",
       "      <td>Indore, India</td>\n",
       "      <td>0.712256</td>\n",
       "    </tr>\n",
       "    <tr>\n",
       "      <th>1</th>\n",
       "      <td>7.291956e+07</td>\n",
       "      <td>Uma Kant Singh</td>\n",
       "      <td>umakantsingh_in</td>\n",
       "      <td>2016-11-09 23:38:42</td>\n",
       "      <td>0.0</td>\n",
       "      <td>0.0</td>\n",
       "      <td>#DeMonetisation,Not govt of common man,PM who ...</td>\n",
       "      <td>7.964142e+17</td>\n",
       "      <td>https://twitter.com/umakantsingh_in/status/796...</td>\n",
       "      <td>en</td>\n",
       "      <td>455.0</td>\n",
       "      <td>New Delhi</td>\n",
       "      <td>0.433632</td>\n",
       "    </tr>\n",
       "    <tr>\n",
       "      <th>2</th>\n",
       "      <td>2.381901e+08</td>\n",
       "      <td>Antony bothagar</td>\n",
       "      <td>Antonybothagar</td>\n",
       "      <td>2016-11-09 23:38:46</td>\n",
       "      <td>0.0</td>\n",
       "      <td>1.0</td>\n",
       "      <td>I am already suffering to get changes for ₹ 10...</td>\n",
       "      <td>7.964142e+17</td>\n",
       "      <td>https://twitter.com/Antonybothagar/status/7964...</td>\n",
       "      <td>en</td>\n",
       "      <td>76.0</td>\n",
       "      <td>NaN</td>\n",
       "      <td>0.844959</td>\n",
       "    </tr>\n",
       "    <tr>\n",
       "      <th>3</th>\n",
       "      <td>2.433278e+09</td>\n",
       "      <td>Abhishek Sharma</td>\n",
       "      <td>skyneeldotcom</td>\n",
       "      <td>2016-11-09 23:38:53</td>\n",
       "      <td>1.0</td>\n",
       "      <td>1.0</td>\n",
       "      <td>#APPSC #Recruitment 2016 – Apply Online for 98...</td>\n",
       "      <td>7.964143e+17</td>\n",
       "      <td>https://twitter.com/skyneeldotcom/status/79641...</td>\n",
       "      <td>en</td>\n",
       "      <td>6288.0</td>\n",
       "      <td>NaN</td>\n",
       "      <td>0.568757</td>\n",
       "    </tr>\n",
       "    <tr>\n",
       "      <th>4</th>\n",
       "      <td>3.246635e+09</td>\n",
       "      <td>abdul rahman</td>\n",
       "      <td>RahmanAbdul2603</td>\n",
       "      <td>2016-11-09 23:39:21</td>\n",
       "      <td>0.0</td>\n",
       "      <td>0.0</td>\n",
       "      <td>#DeMonetisation almst everybody knows fr a mar...</td>\n",
       "      <td>7.964144e+17</td>\n",
       "      <td>https://twitter.com/RahmanAbdul2603/status/796...</td>\n",
       "      <td>en</td>\n",
       "      <td>48.0</td>\n",
       "      <td>Saharanpur, India</td>\n",
       "      <td>0.080881</td>\n",
       "    </tr>\n",
       "  </tbody>\n",
       "</table>\n",
       "</div>"
      ],
      "text/plain": [
       "        user id             name           handle                 date  \\\n",
       "0  7.108627e+17        The gamer  VenkateshaPanc2  2016-11-09 23:38:24   \n",
       "1  7.291956e+07   Uma Kant Singh  umakantsingh_in  2016-11-09 23:38:42   \n",
       "2  2.381901e+08  Antony bothagar   Antonybothagar  2016-11-09 23:38:46   \n",
       "3  2.433278e+09  Abhishek Sharma    skyneeldotcom  2016-11-09 23:38:53   \n",
       "4  3.246635e+09     abdul rahman  RahmanAbdul2603  2016-11-09 23:39:21   \n",
       "\n",
       "   retweets  favorites                                               text  \\\n",
       "0       0.0        0.0  If common man is supporting the decision why c...   \n",
       "1       0.0        0.0  #DeMonetisation,Not govt of common man,PM who ...   \n",
       "2       0.0        1.0  I am already suffering to get changes for ₹ 10...   \n",
       "3       1.0        1.0  #APPSC #Recruitment 2016 – Apply Online for 98...   \n",
       "4       0.0        0.0  #DeMonetisation almst everybody knows fr a mar...   \n",
       "\n",
       "             id                                          permalink language  \\\n",
       "0  7.964142e+17  https://twitter.com/VenkateshaPanc2/status/796...       en   \n",
       "1  7.964142e+17  https://twitter.com/umakantsingh_in/status/796...       en   \n",
       "2  7.964142e+17  https://twitter.com/Antonybothagar/status/7964...       en   \n",
       "3  7.964143e+17  https://twitter.com/skyneeldotcom/status/79641...       en   \n",
       "4  7.964144e+17  https://twitter.com/RahmanAbdul2603/status/796...       en   \n",
       "\n",
       "   followers_count           location  sentiment  \n",
       "0              6.0      Indore, India   0.712256  \n",
       "1            455.0          New Delhi   0.433632  \n",
       "2             76.0                NaN   0.844959  \n",
       "3           6288.0                NaN   0.568757  \n",
       "4             48.0  Saharanpur, India   0.080881  "
      ]
     },
     "execution_count": 13,
     "metadata": {},
     "output_type": "execute_result"
    }
   ],
   "source": [
    "df.head()"
   ]
  },
  {
   "cell_type": "markdown",
   "metadata": {
    "collapsed": false
   },
   "source": [
    "## Q1. What was the most retweeted tweet in the last 1 month?"
   ]
  },
  {
   "cell_type": "code",
   "execution_count": 10,
   "metadata": {
    "collapsed": false
   },
   "outputs": [
    {
     "data": {
      "text/plain": [
       "'A total of 11 bank officers died of stress since Govt rolled out #demonetisation, says union representing 2.5L bank officers'"
      ]
     },
     "execution_count": 10,
     "metadata": {},
     "output_type": "execute_result"
    }
   ],
   "source": [
    "df.loc[df['retweets'].argmax()]['text']"
   ]
  },
  {
   "cell_type": "markdown",
   "metadata": {
    "collapsed": false
   },
   "source": [
    "## A. 'A total of 11 bank officers died of stress since Govt rolled out #demonetisation, says union representing 2.5L bank officers', tweeted by the Indian Express"
   ]
  },
  {
   "cell_type": "markdown",
   "metadata": {
    "collapsed": false
   },
   "source": [
    "## Q2. The most favourited tweet?"
   ]
  },
  {
   "cell_type": "code",
   "execution_count": 15,
   "metadata": {
    "collapsed": false
   },
   "outputs": [
    {
     "data": {
      "text/plain": [
       "user id                                                  3.95612e+09\n",
       "name                                                  Mitesh Patel 🎗\n",
       "handle                                                  _MiteshPatel\n",
       "date                                             2016-11-11 19:03:24\n",
       "retweets                                                        1495\n",
       "favorites                                                       1303\n",
       "text               Ahmedabad's @modibhatiakisor dares @AmitShah t...\n",
       "id                                                        7.9707e+17\n",
       "permalink          https://twitter.com/_MiteshPatel/status/797069...\n",
       "language                                                          en\n",
       "followers_count                                                 4731\n",
       "location                                  Ahmedabad, Gujarat, India.\n",
       "sentiment                                                   0.523209\n",
       "Name: 1468, dtype: object"
      ]
     },
     "execution_count": 15,
     "metadata": {},
     "output_type": "execute_result"
    }
   ],
   "source": [
    "df.loc[df['favorites'].argmax()]"
   ]
  },
  {
   "cell_type": "code",
   "execution_count": null,
   "metadata": {
    "collapsed": true
   },
   "outputs": [],
   "source": []
  }
 ],
 "metadata": {
  "kernelspec": {
   "display_name": "Python 3",
   "language": "python",
   "name": "python3"
  },
  "language_info": {
   "codemirror_mode": {
    "name": "ipython",
    "version": 3
   },
   "file_extension": ".py",
   "mimetype": "text/x-python",
   "name": "python",
   "nbconvert_exporter": "python",
   "pygments_lexer": "ipython3",
   "version": "3.5.2"
  }
 },
 "nbformat": 4,
 "nbformat_minor": 0
}
