{
 "cells": [
  {
   "cell_type": "markdown",
   "metadata": {},
   "source": [
    "# Exploratory Data Analysis of ~20k tweets from 9/11/2016 to 12/12/2016.\n",
    "\n",
    "   Today Demonetisation is something that has affected every single person in the country, in a mostly direct way. Though are no official stats on the impact it had on the economy in the last 40 days or so I thought it would be interesting to explore the general sentiment on Twitter, to understand what folks from diverse walks of life think.\n",
    "  \n",
    "  It was easier said than done. Depending on the way you see it, Twitter data is either entirely usesless or is very difficult to classify. Though I certainly dont think Twitter as the gold standard of the country's opinion, I still valid  opinions are voiced there and it's worth taking a look. \n",
    "  \n",
    " I compiled close to 20,000 tweets, from 9/11/2016 to 12/12/2016, classified sentiments using Indico.io's sentiment classifier and also hand classified a few tweets written in Hinglish.\n",
    " \n",
    " These were the questions I was trying to get answered with these tweets:\n",
    " * What was the average sentiment over these 34 days. \n",
    " * How did sentiments change over a period of time in India's top 10 cities by population. What were folks outside india saying and how did that change over time?\n",
    " * Where did the most positive tweets come from? Where did the most negative tweets come from?\n",
    " * What were Twitter's \"influencers\" saying about this move? And how did that change over time?\n",
    " * A word-cloud of both positive/negative tweets. \n"
   ]
  },
  {
   "cell_type": "code",
   "execution_count": 12,
   "metadata": {
    "collapsed": false
   },
   "outputs": [],
   "source": [
    "import pandas as pd\n",
    "import numpy as np\n",
    "import seaborn as sns\n",
    "import indicoio as indico\n",
    "import matplotlib.pyplot as plt\n",
    "import collections\n",
    "from collections import OrderedDict\n",
    "import plotly\n",
    "import plotly.plotly as py\n",
    "import plotly.graph_objs as go\n",
    "\n",
    "%matplotlib inline\n",
    "sns.set(style=\"whitegrid\")"
   ]
  },
  {
   "cell_type": "code",
   "execution_count": 2,
   "metadata": {
    "collapsed": false
   },
   "outputs": [],
   "source": [
    "df = pd.read_csv('tweets.csv')"
   ]
  },
  {
   "cell_type": "code",
   "execution_count": 3,
   "metadata": {
    "collapsed": false
   },
   "outputs": [],
   "source": [
    "df.drop(['Unnamed: 0'], axis = 1, inplace = True, errors = 'ignore')"
   ]
  },
  {
   "cell_type": "code",
   "execution_count": 4,
   "metadata": {
    "collapsed": false
   },
   "outputs": [
    {
     "data": {
      "text/plain": [
       "Index(['user id', 'name', 'handle', 'date', 'retweets', 'favorites', 'text',\n",
       "       'id', 'permalink', 'language', 'followers_count', 'location',\n",
       "       'sentiment'],\n",
       "      dtype='object')"
      ]
     },
     "execution_count": 4,
     "metadata": {},
     "output_type": "execute_result"
    }
   ],
   "source": [
    "df.columns"
   ]
  },
  {
   "cell_type": "code",
   "execution_count": 5,
   "metadata": {
    "collapsed": false
   },
   "outputs": [
    {
     "data": {
      "text/html": [
       "<div>\n",
       "<table border=\"1\" class=\"dataframe\">\n",
       "  <thead>\n",
       "    <tr style=\"text-align: right;\">\n",
       "      <th></th>\n",
       "      <th>user id</th>\n",
       "      <th>name</th>\n",
       "      <th>handle</th>\n",
       "      <th>date</th>\n",
       "      <th>retweets</th>\n",
       "      <th>favorites</th>\n",
       "      <th>text</th>\n",
       "      <th>id</th>\n",
       "      <th>permalink</th>\n",
       "      <th>language</th>\n",
       "      <th>followers_count</th>\n",
       "      <th>location</th>\n",
       "      <th>sentiment</th>\n",
       "    </tr>\n",
       "  </thead>\n",
       "  <tbody>\n",
       "    <tr>\n",
       "      <th>0</th>\n",
       "      <td>7.108627e+17</td>\n",
       "      <td>The gamer</td>\n",
       "      <td>VenkateshaPanc2</td>\n",
       "      <td>2016-11-09 23:38:24</td>\n",
       "      <td>0.0</td>\n",
       "      <td>0.0</td>\n",
       "      <td>If common man is supporting the decision why c...</td>\n",
       "      <td>7.964142e+17</td>\n",
       "      <td>https://twitter.com/VenkateshaPanc2/status/796...</td>\n",
       "      <td>en</td>\n",
       "      <td>6.0</td>\n",
       "      <td>Indore, India</td>\n",
       "      <td>0.712256</td>\n",
       "    </tr>\n",
       "    <tr>\n",
       "      <th>1</th>\n",
       "      <td>7.291956e+07</td>\n",
       "      <td>Uma Kant Singh</td>\n",
       "      <td>umakantsingh_in</td>\n",
       "      <td>2016-11-09 23:38:42</td>\n",
       "      <td>0.0</td>\n",
       "      <td>0.0</td>\n",
       "      <td>#DeMonetisation,Not govt of common man,PM who ...</td>\n",
       "      <td>7.964142e+17</td>\n",
       "      <td>https://twitter.com/umakantsingh_in/status/796...</td>\n",
       "      <td>en</td>\n",
       "      <td>455.0</td>\n",
       "      <td>New Delhi</td>\n",
       "      <td>0.433632</td>\n",
       "    </tr>\n",
       "    <tr>\n",
       "      <th>2</th>\n",
       "      <td>2.381901e+08</td>\n",
       "      <td>Antony bothagar</td>\n",
       "      <td>Antonybothagar</td>\n",
       "      <td>2016-11-09 23:38:46</td>\n",
       "      <td>0.0</td>\n",
       "      <td>1.0</td>\n",
       "      <td>I am already suffering to get changes for ₹ 10...</td>\n",
       "      <td>7.964142e+17</td>\n",
       "      <td>https://twitter.com/Antonybothagar/status/7964...</td>\n",
       "      <td>en</td>\n",
       "      <td>76.0</td>\n",
       "      <td>NaN</td>\n",
       "      <td>0.844959</td>\n",
       "    </tr>\n",
       "    <tr>\n",
       "      <th>3</th>\n",
       "      <td>2.433278e+09</td>\n",
       "      <td>Abhishek Sharma</td>\n",
       "      <td>skyneeldotcom</td>\n",
       "      <td>2016-11-09 23:38:53</td>\n",
       "      <td>1.0</td>\n",
       "      <td>1.0</td>\n",
       "      <td>#APPSC #Recruitment 2016 – Apply Online for 98...</td>\n",
       "      <td>7.964143e+17</td>\n",
       "      <td>https://twitter.com/skyneeldotcom/status/79641...</td>\n",
       "      <td>en</td>\n",
       "      <td>6288.0</td>\n",
       "      <td>NaN</td>\n",
       "      <td>0.568757</td>\n",
       "    </tr>\n",
       "    <tr>\n",
       "      <th>4</th>\n",
       "      <td>3.246635e+09</td>\n",
       "      <td>abdul rahman</td>\n",
       "      <td>RahmanAbdul2603</td>\n",
       "      <td>2016-11-09 23:39:21</td>\n",
       "      <td>0.0</td>\n",
       "      <td>0.0</td>\n",
       "      <td>#DeMonetisation almst everybody knows fr a mar...</td>\n",
       "      <td>7.964144e+17</td>\n",
       "      <td>https://twitter.com/RahmanAbdul2603/status/796...</td>\n",
       "      <td>en</td>\n",
       "      <td>48.0</td>\n",
       "      <td>Saharanpur, India</td>\n",
       "      <td>0.080881</td>\n",
       "    </tr>\n",
       "  </tbody>\n",
       "</table>\n",
       "</div>"
      ],
      "text/plain": [
       "        user id             name           handle                 date  \\\n",
       "0  7.108627e+17        The gamer  VenkateshaPanc2  2016-11-09 23:38:24   \n",
       "1  7.291956e+07   Uma Kant Singh  umakantsingh_in  2016-11-09 23:38:42   \n",
       "2  2.381901e+08  Antony bothagar   Antonybothagar  2016-11-09 23:38:46   \n",
       "3  2.433278e+09  Abhishek Sharma    skyneeldotcom  2016-11-09 23:38:53   \n",
       "4  3.246635e+09     abdul rahman  RahmanAbdul2603  2016-11-09 23:39:21   \n",
       "\n",
       "   retweets  favorites                                               text  \\\n",
       "0       0.0        0.0  If common man is supporting the decision why c...   \n",
       "1       0.0        0.0  #DeMonetisation,Not govt of common man,PM who ...   \n",
       "2       0.0        1.0  I am already suffering to get changes for ₹ 10...   \n",
       "3       1.0        1.0  #APPSC #Recruitment 2016 – Apply Online for 98...   \n",
       "4       0.0        0.0  #DeMonetisation almst everybody knows fr a mar...   \n",
       "\n",
       "             id                                          permalink language  \\\n",
       "0  7.964142e+17  https://twitter.com/VenkateshaPanc2/status/796...       en   \n",
       "1  7.964142e+17  https://twitter.com/umakantsingh_in/status/796...       en   \n",
       "2  7.964142e+17  https://twitter.com/Antonybothagar/status/7964...       en   \n",
       "3  7.964143e+17  https://twitter.com/skyneeldotcom/status/79641...       en   \n",
       "4  7.964144e+17  https://twitter.com/RahmanAbdul2603/status/796...       en   \n",
       "\n",
       "   followers_count           location  sentiment  \n",
       "0              6.0      Indore, India   0.712256  \n",
       "1            455.0          New Delhi   0.433632  \n",
       "2             76.0                NaN   0.844959  \n",
       "3           6288.0                NaN   0.568757  \n",
       "4             48.0  Saharanpur, India   0.080881  "
      ]
     },
     "execution_count": 5,
     "metadata": {},
     "output_type": "execute_result"
    }
   ],
   "source": [
    "df.head()"
   ]
  },
  {
   "cell_type": "markdown",
   "metadata": {
    "collapsed": false
   },
   "source": [
    "## Lets first look at overall sentiment over the course of these 34 days."
   ]
  },
  {
   "cell_type": "code",
   "execution_count": 6,
   "metadata": {
    "collapsed": false
   },
   "outputs": [],
   "source": [
    "## Get average sentiment for each week. For that, return Dataframes for each week.  \n",
    "def search(df, *words):  #1\n",
    "    return df[np.logical_or.reduce([df['date'].str.contains(word) for word in words])]\n",
    "week1 = search(df,\"2016-11-09\",\"2016-11-10\",\"2016-11-11\",\"2016-11-12\",\"2016-11-13\",\"2016-11-14\",\"2016-11-15\",\"2016-11-16\")"
   ]
  },
  {
   "cell_type": "markdown",
   "metadata": {
    "collapsed": true
   },
   "source": [
    "## Maybe we can look at the data in a slightly granular way. Mean sentiment for each day. \n",
    "### A scatter plot would help."
   ]
  },
  {
   "cell_type": "code",
   "execution_count": 32,
   "metadata": {
    "collapsed": false
   },
   "outputs": [
    {
     "name": "stdout",
     "output_type": "stream",
     "text": [
      "[53.136832903225809, 52.921829355149171, 50.774063636363628, 48.179133333333333, 51.16975626598466, 53.476719999999986, 50.039012499999998, 51.350087678339818, 51.913394965986392, 47.948271313672933, 52.364179829545456, 48.739098203592818, 52.228293522267208, 48.062430821917815, 51.705255329949239, 49.913779966887411, 47.832414985994397, 55.673494999999981, 39.815657142857141, 49.845762499999999, 51.119342201834861, 45.726437500000003, 45.608518881118883, 47.380484290540537, 49.258282573099414, 50.329545744680857, 47.727182420091324, 49.08963748458693, 47.717728712871285, 44.266404385964911, 47.598505787781356, 48.914792917166871, 48.785451050679853, 47.431779556898285]\n"
     ]
    }
   ],
   "source": [
    "day_count = df['date'].unique().tolist()\n",
    "day_count = [i.split(' ', 1)[0] for i in day_count] #remove time-stamps.\n",
    "day_count = list(OrderedDict.fromkeys(day_count))\n",
    "mean_sentiment_each_day = []\n",
    "for i in range(0, 34):\n",
    "    mean_sentiment_each_day.append((search(df,day_count[i])['sentiment'].mean())*100) ## \n",
    "print(mean_sentiment_each_day)\n",
    "\n"
   ]
  },
  {
   "cell_type": "code",
   "execution_count": 33,
   "metadata": {
    "collapsed": false
   },
   "outputs": [
    {
     "data": {
      "text/html": [
       "<div>\n",
       "<table border=\"1\" class=\"dataframe\">\n",
       "  <thead>\n",
       "    <tr style=\"text-align: right;\">\n",
       "      <th></th>\n",
       "      <th>day_count</th>\n",
       "      <th>mean_sentiment</th>\n",
       "    </tr>\n",
       "  </thead>\n",
       "  <tbody>\n",
       "    <tr>\n",
       "      <th>0</th>\n",
       "      <td>0</td>\n",
       "      <td>53.136833</td>\n",
       "    </tr>\n",
       "    <tr>\n",
       "      <th>1</th>\n",
       "      <td>1</td>\n",
       "      <td>52.921829</td>\n",
       "    </tr>\n",
       "    <tr>\n",
       "      <th>2</th>\n",
       "      <td>2</td>\n",
       "      <td>50.774064</td>\n",
       "    </tr>\n",
       "    <tr>\n",
       "      <th>3</th>\n",
       "      <td>3</td>\n",
       "      <td>48.179133</td>\n",
       "    </tr>\n",
       "    <tr>\n",
       "      <th>4</th>\n",
       "      <td>4</td>\n",
       "      <td>51.169756</td>\n",
       "    </tr>\n",
       "  </tbody>\n",
       "</table>\n",
       "</div>"
      ],
      "text/plain": [
       "   day_count  mean_sentiment\n",
       "0          0       53.136833\n",
       "1          1       52.921829\n",
       "2          2       50.774064\n",
       "3          3       48.179133\n",
       "4          4       51.169756"
      ]
     },
     "execution_count": 33,
     "metadata": {},
     "output_type": "execute_result"
    }
   ],
   "source": [
    "## Create a new dataframe for plotting it as a scatter plot. \n",
    "mean_sentiment_df = pd.DataFrame()\n",
    "mean_sentiment_df['day_count'] = list(range(0,34))\n",
    "mean_sentiment_df['mean_sentiment'] = mean_sentiment_each_day\n",
    "mean_sentiment_df.head()"
   ]
  },
  {
   "cell_type": "code",
   "execution_count": 40,
   "metadata": {
    "collapsed": false
   },
   "outputs": [
    {
     "data": {
      "text/plain": [
       "<seaborn.axisgrid.FacetGrid at 0x10fae0d30>"
      ]
     },
     "execution_count": 40,
     "metadata": {},
     "output_type": "execute_result"
    },
    {
     "data": {
      "image/png": "[encoded data removed]",
      "text/plain": [
       "<matplotlib.figure.Figure at 0x10fae09e8>"
      ]
     },
     "metadata": {},
     "output_type": "display_data"
    }
   ],
   "source": [
    "sns.lmplot(x=\"day_count\", y=\"mean_sentiment\", data=mean_sentiment_df)"
   ]
  },
  {
   "cell_type": "markdown",
   "metadata": {},
   "source": [
    "### There's definitely a decline in sentiment over 34 days. It would also be interesting to see how many tweets were in each interval. "
   ]
  },
  {
   "cell_type": "code",
   "execution_count": 49,
   "metadata": {
    "collapsed": false
   },
   "outputs": [
    {
     "data": {
      "image/png": "[encoded data removed]",
      "text/plain": [
       "<matplotlib.figure.Figure at 0x10ef794e0>"
      ]
     },
     "metadata": {},
     "output_type": "display_data"
    }
   ],
   "source": [
    "sns.distplot((df['sentiment']*100), bins=10, kde=False, rug=True);"
   ]
  },
  {
   "cell_type": "markdown",
   "metadata": {},
   "source": [
    "## Let's try and visualise the change in sentiment over time in India's top 10 cities by population. "
   ]
  },
  {
   "cell_type": "code",
   "execution_count": null,
   "metadata": {
    "collapsed": true
   },
   "outputs": [],
   "source": [
    "## A rough list taken after a bit of googling, based on GDP of each city. \n",
    "top_10_cities_list = ['Mumbai','Delhi','Kolkata','Bengaluru','Hyderabad','Chennai','Ahmedabad','Pune','Surat','Vishakapatnam']\n"
   ]
  }
 ],
 "metadata": {
  "kernelspec": {
   "display_name": "Python 3",
   "language": "python",
   "name": "python3"
  },
  "language_info": {
   "codemirror_mode": {
    "name": "ipython",
    "version": 3
   },
   "file_extension": ".py",
   "mimetype": "text/x-python",
   "name": "python",
   "nbconvert_exporter": "python",
   "pygments_lexer": "ipython3",
   "version": "3.5.2"
  }
 },
 "nbformat": 4,
 "nbformat_minor": 0
}
